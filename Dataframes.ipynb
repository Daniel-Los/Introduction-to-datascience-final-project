{
 "cells": [
  {
   "cell_type": "markdown",
   "metadata": {},
   "source": [
    "#### Importing important data\n",
    "In this code I am trying to import the data as efficient as possible.\n",
    "The data I am particulary interested in can be found in the google sheet document \"interesting data\"\n",
    "The categories that are defined so far are:\n",
    "###### Demographics\n",
    "1. Literacy\n",
    "2. population density\n",
    "3. slum population\n",
    "4. Urban population share\n",
    "###### Deaths\n",
    "5. covid infections\n",
    "6. covid deaths\n",
    "7. dates\n",
    "8. district id\n",
    "###### Vaccination\n",
    "9. site vaccination progress\n",
    "10. first dose vaccination\n",
    "11. dates\n",
    "12. district id\n",
    "###### Age\n",
    "13. age per 5 year categories to make a map of where older people live"
   ]
  },
  {
   "cell_type": "code",
   "execution_count": 1,
   "metadata": {},
   "outputs": [
    {
     "ename": "NameError",
     "evalue": "name 'pd' is not defined",
     "output_type": "error",
     "traceback": [
      "\u001b[1;31m---------------------------------------------------------------------------\u001b[0m",
      "\u001b[1;31mNameError\u001b[0m                                 Traceback (most recent call last)",
      "\u001b[1;32m~\\AppData\\Local\\Temp/ipykernel_15936/2720291844.py\u001b[0m in \u001b[0;36m<module>\u001b[1;34m\u001b[0m\n\u001b[0;32m      2\u001b[0m \u001b[1;32mfrom\u001b[0m \u001b[0mIPython\u001b[0m\u001b[1;33m.\u001b[0m\u001b[0mcore\u001b[0m\u001b[1;33m.\u001b[0m\u001b[0minteractiveshell\u001b[0m \u001b[1;32mimport\u001b[0m \u001b[0mInteractiveShell\u001b[0m\u001b[1;33m\u001b[0m\u001b[1;33m\u001b[0m\u001b[0m\n\u001b[0;32m      3\u001b[0m \u001b[0mInteractiveShell\u001b[0m\u001b[1;33m.\u001b[0m\u001b[0mast_node_interactivity\u001b[0m \u001b[1;33m=\u001b[0m \u001b[1;34m\"all\"\u001b[0m\u001b[1;33m\u001b[0m\u001b[1;33m\u001b[0m\u001b[0m\n\u001b[1;32m----> 4\u001b[1;33m \u001b[0mpd\u001b[0m\u001b[1;33m.\u001b[0m\u001b[0moptions\u001b[0m\u001b[1;33m.\u001b[0m\u001b[0mdisplay\u001b[0m\u001b[1;33m.\u001b[0m\u001b[0mmax_rows\u001b[0m \u001b[1;33m=\u001b[0m \u001b[1;36m20\u001b[0m\u001b[1;33m\u001b[0m\u001b[1;33m\u001b[0m\u001b[0m\n\u001b[0m",
      "\u001b[1;31mNameError\u001b[0m: name 'pd' is not defined"
     ]
    }
   ],
   "source": [
    "#As always we have to specify to jupyter that we want to see all the outputs.\n",
    "from IPython.core.interactiveshell import InteractiveShell\n",
    "InteractiveShell.ast_node_interactivity = \"all\"\n",
    "pd.options.display.max_rows = 20\n"
   ]
  },
  {
   "cell_type": "code",
   "execution_count": null,
   "metadata": {},
   "outputs": [],
   "source": [
    "import pandas as pd\n",
    "import numpy as np"
   ]
  },
  {
   "cell_type": "code",
   "execution_count": null,
   "metadata": {},
   "outputs": [],
   "source": [
    "# We need to be able to access the right folder. I put mine in the following folders. This can be adjusted easily\n",
    "# Keep in mind that the 'r' in front of the string converts\n",
    "# the string to a 'raw' string, bc of conflicts with \\ and \" ' characters\n",
    "\n",
    "# Base directory\n",
    "base_dir =       r\"C:\\Users\\danie\\OneDrive\\Bureaublad\\Coding\\EPA introduction to datascience\\Intro to datascience project\"\n",
    "\n",
    "# This section specifies the file name directories that I want to use\n",
    "covid_folder =  r\"\\covid_data\\covid\\csv\"\n",
    "demog_folder =  r\"\\covid_data\\demography\\csv\"\n",
    "hosp_folder =  r\"\\covid_data\\hospitals\\csv\"\n",
    "\n",
    "# This section identifies the actual files\n",
    "deaths_file =   r\"\\covid_infected_deaths_pc11.csv\"\n",
    "vacc_file =     r\"\\covid_vaccination.csv\" #we cant use this because it contains new district numbering\n",
    "demog_file =    r\"\\pc11_demographics_district.csv\"\n",
    "age_file =      r\"\\age_bins_district_t_pc11.csv\"\n",
    "hosp_file =     r\"\\dlhs4_hospitals_dist_pc11.csv\"\n",
    "\n",
    "deaths_dir = base_dir + covid_folder + deaths_file\n",
    "vacc_dir =   base_dir + covid_folder + vacc_file #NA\n",
    "demog_dir =  base_dir + demog_folder + demog_file\n",
    "age_dir =    base_dir + demog_folder + age_file\n",
    "hosp_dir =   base_dir + hosp_folder + hosp_file\n",
    "\n",
    "dirlist = [deaths_dir, vacc_dir, demog_dir, age_dir, hosp_dir]\n"
   ]
  },
  {
   "cell_type": "code",
   "execution_count": null,
   "metadata": {},
   "outputs": [],
   "source": [
    "deaths_frame = pd.read_csv(deaths_dir)\n",
    "vacc_frame   = pd.read_csv(vacc_dir)\n",
    "demog_frame  = pd.read_csv(demog_dir)\n",
    "age_frame    = pd.read_csv(age_dir)\n",
    "hosp_frame   = pd.read_csv(hosp_dir)\n",
    "\n",
    "framedict = {\"Deaths\" : deaths_frame, \n",
    "             \"Vaccination\" : vacc_frame,\n",
    "             \"Demographics\" : demog_frame, \n",
    "             \"Age\" : age_frame,\n",
    "             \"Hospitals\" : hosp_frame}\n",
    "\n",
    "for key in framedict:\n",
    "    print(key,\" has \",len(framedict[key]),\" entries\")\n",
    "    \n",
    "#longer numbers represent the entries of daily entries. Entries around 640 contain district entries."
   ]
  },
  {
   "cell_type": "code",
   "execution_count": null,
   "metadata": {
    "scrolled": true
   },
   "outputs": [],
   "source": [
    "print(\"The keys of the dataframes are: \\n\")\n",
    "for key, value in framedict.items():\n",
    "    print(key, \":\")\n",
    "    print('length: ',len(framedict[key]))\n",
    "    print(value.keys())"
   ]
  },
  {
   "cell_type": "code",
   "execution_count": null,
   "metadata": {},
   "outputs": [],
   "source": [
    "## Cleaning Hospital data\n",
    "\n",
    "# Some districts are missing in the hosp data. This makes sure they are in there as NaN\n",
    "distr_col = demog_frame['pc11_district_id'] \n",
    "hosp_frame = pd.merge(hosp_frame, distr_col, on = 'pc11_district_id', how = 'right')\n",
    "\n",
    "df = hosp_frame\n",
    "# We only have to rename our district code to 'censuscode' \n",
    "df = df.rename(columns={\"pc11_district_id\": \"censuscode\"})\n",
    "\n",
    "#andd drop wierd 999th district\n",
    "df = df[df['censuscode'] != 999]\n",
    "df = df[df['censuscode'] != 0]\n"
   ]
  },
  {
   "cell_type": "code",
   "execution_count": null,
   "metadata": {},
   "outputs": [],
   "source": [
    "# This is what the new frame looks like\n",
    "hosp_frame = df\n",
    "hosp_frame.head()\n",
    "print(\"The size of the hosp_frame is \",len(hosp_frame))"
   ]
  },
  {
   "cell_type": "code",
   "execution_count": null,
   "metadata": {},
   "outputs": [],
   "source": [
    "# Here we filter the dataframes on interesting variables that we want to use\n",
    "interesting_dir = base_dir + r\"\\variablecodes.xlsm\"\n",
    "interesting_frame = pd.read_excel(interesting_dir)\n",
    "interesting_frame"
   ]
  },
  {
   "cell_type": "code",
   "execution_count": null,
   "metadata": {},
   "outputs": [],
   "source": [
    "#Framedict['Deaths'] is the frame of casualties and cases per day.\n",
    "framedict['Deaths'].head()\n"
   ]
  },
  {
   "cell_type": "code",
   "execution_count": null,
   "metadata": {},
   "outputs": [],
   "source": [
    "df = framedict['Deaths']\n",
    "# We only have to rename our district code to 'censuscode' \n",
    "df = df.rename(columns={\"pc11_district_id\": \"censuscode\"})\n",
    "\n",
    "#andd drop wierd 999th district\n",
    "df = df[df['censuscode'] != 999]\n",
    "df = df[df['censuscode'] != 0]\n",
    "deaths_frame = df\n"
   ]
  },
  {
   "cell_type": "code",
   "execution_count": null,
   "metadata": {},
   "outputs": [],
   "source": [
    "len(df)\n",
    "df.head()"
   ]
  },
  {
   "cell_type": "code",
   "execution_count": null,
   "metadata": {},
   "outputs": [],
   "source": [
    "# We can use this dataframe to filter on specific dates.\n",
    "# This code does that:\n",
    "def stripframe(df, date):\n",
    "    if type(date) != list:\n",
    "        date = [date]\n",
    "    retdict = {}\n",
    "    for i in date:\n",
    "        newframe = df[df['date'] == i] \n",
    "        # This dataframe has to be pivotted to conform to the district name on the left.\n",
    "        df2 = newframe.pivot_table(index = newframe.index, columns = [])\n",
    "    \n",
    "        retdict.update({i : df2})\n",
    "    return retdict\n",
    "\n",
    "# this code is an example on how to extract dates from this dataframe.\n",
    "\n",
    "dates = ['28mar2021', '04apr2021', '11apr2021']\n",
    "#dates = '28mar2021'\n",
    "\n",
    "datedict = stripframe(df, dates)    \n",
    "\n",
    "#check if the data has been parsed correctly.\n",
    "print('Lengths of the dataframes are: ', [(i, len(j)) for i,j in datedict.items()])\n",
    "overview = [print('\\n'+str(i)+'\\n',j) for i,j in datedict.items()]\n"
   ]
  },
  {
   "cell_type": "code",
   "execution_count": null,
   "metadata": {},
   "outputs": [],
   "source": [
    "framedict = {\"Deaths\" : deaths_frame, \n",
    "             \"Vaccination\" : vacc_frame,\n",
    "             \"Demographics\" : demog_frame, \n",
    "             \"Age\" : age_frame,\n",
    "             \"Hospitals\" : hosp_frame}"
   ]
  },
  {
   "cell_type": "code",
   "execution_count": null,
   "metadata": {},
   "outputs": [],
   "source": []
  }
 ],
 "metadata": {
  "kernelspec": {
   "display_name": "environment_1",
   "language": "python",
   "name": "environment_1"
  },
  "language_info": {
   "codemirror_mode": {
    "name": "ipython",
    "version": 3
   },
   "file_extension": ".py",
   "mimetype": "text/x-python",
   "name": "python",
   "nbconvert_exporter": "python",
   "pygments_lexer": "ipython3",
   "version": "3.8.11"
  }
 },
 "nbformat": 4,
 "nbformat_minor": 4
}
