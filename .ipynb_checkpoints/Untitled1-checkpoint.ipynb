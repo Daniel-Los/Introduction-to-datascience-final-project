{
 "cells": [
  {
   "cell_type": "code",
   "execution_count": 34,
   "id": "6a9081cc-0311-4bab-976b-d985c577a340",
   "metadata": {},
   "outputs": [],
   "source": [
    "import pandas as pd\n",
    "import numpy as np\n",
    "\n",
    "missing_dist = list(range(1, 23))\n",
    "hospi_col    = ['dlhs4_dh_icu_beds', 'dlhs4_total_beds', 'dlhs4_total_facilities']\n",
    "\n",
    "#creates a dataframe of missing values\n",
    "missing_hosp = pd.DataFrame(np.nan, index= missing_dist, columns= hospi_col, dtype='float')\n",
    "hosp_frame = pd.DataFrame(np.nan, index= missing_dist, columns= hospi_col, dtype='float')\n",
    "\n",
    "missing_hosp.index.name = 'pc11_district_id'\n",
    "\n",
    "missing_hosp.reset_index(inplace=True)\n",
    "\n",
    "frames = [missing_hosp, hosp_frame]\n"
   ]
  },
  {
   "cell_type": "code",
   "execution_count": 6,
   "id": "563b558c-c8f7-4450-a8f7-b46a279fa713",
   "metadata": {},
   "outputs": [
    {
     "data": {
      "text/plain": [
       "[1, 2, 3, 4, 5, 6, 7, 8, 9, 10, 11, 12, 13, 14, 15, 16, 17, 18, 19, 20, 21, 22]"
      ]
     },
     "execution_count": 6,
     "metadata": {},
     "output_type": "execute_result"
    }
   ],
   "source": [
    "list(range(1, 23))"
   ]
  },
  {
   "cell_type": "code",
   "execution_count": null,
   "id": "0bbb4ae9-353f-4b19-af54-f4288c67c108",
   "metadata": {},
   "outputs": [],
   "source": []
  }
 ],
 "metadata": {
  "kernelspec": {
   "display_name": "Python 3 (ipykernel)",
   "language": "python",
   "name": "python3"
  },
  "language_info": {
   "codemirror_mode": {
    "name": "ipython",
    "version": 3
   },
   "file_extension": ".py",
   "mimetype": "text/x-python",
   "name": "python",
   "nbconvert_exporter": "python",
   "pygments_lexer": "ipython3",
   "version": "3.9.7"
  }
 },
 "nbformat": 4,
 "nbformat_minor": 5
}
