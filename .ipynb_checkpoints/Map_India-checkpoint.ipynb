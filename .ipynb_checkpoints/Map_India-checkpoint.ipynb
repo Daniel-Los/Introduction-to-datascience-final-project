{
 "cells": [
  {
   "cell_type": "code",
   "execution_count": 1,
   "id": "43542a11-bb29-4660-88b2-e6856f09ba63",
   "metadata": {},
   "outputs": [],
   "source": [
    "import osmnx as ox\n",
    "import pandas as pd\n",
    "import geopandas as gpd"
   ]
  },
  {
   "cell_type": "code",
   "execution_count": 2,
   "id": "7c157cf6-f6ed-4ee1-bdd5-c645ce880770",
   "metadata": {},
   "outputs": [],
   "source": [
    "india_shp_MASTERS = './maps-master/maps-master/Districts/Census_2011/2011_Dist.shp'"
   ]
  },
  {
   "cell_type": "code",
   "execution_count": 3,
   "id": "9defa860-e143-4389-94ae-1b05d0287f56",
   "metadata": {},
   "outputs": [
    {
     "name": "stdout",
     "output_type": "stream",
     "text": [
      "<class 'geopandas.geodataframe.GeoDataFrame'>\n",
      "RangeIndex: 641 entries, 0 to 640\n",
      "Data columns (total 6 columns):\n",
      " #   Column      Non-Null Count  Dtype   \n",
      "---  ------      --------------  -----   \n",
      " 0   DISTRICT    641 non-null    object  \n",
      " 1   ST_NM       641 non-null    object  \n",
      " 2   ST_CEN_CD   641 non-null    int64   \n",
      " 3   DT_CEN_CD   641 non-null    int64   \n",
      " 4   censuscode  641 non-null    int64   \n",
      " 5   geometry    641 non-null    geometry\n",
      "dtypes: geometry(1), int64(3), object(2)\n",
      "memory usage: 30.2+ KB\n"
     ]
    }
   ],
   "source": [
    "india_s_masters = gpd.read_file(india_shp_MASTERS)\n",
    "india_s_masters.info()"
   ]
  },
  {
   "cell_type": "code",
   "execution_count": 4,
   "id": "ada2b5d0-3b68-4865-b387-b840c8357fc0",
   "metadata": {},
   "outputs": [
    {
     "data": {
      "text/html": [
       "<div>\n",
       "<style scoped>\n",
       "    .dataframe tbody tr th:only-of-type {\n",
       "        vertical-align: middle;\n",
       "    }\n",
       "\n",
       "    .dataframe tbody tr th {\n",
       "        vertical-align: top;\n",
       "    }\n",
       "\n",
       "    .dataframe thead th {\n",
       "        text-align: right;\n",
       "    }\n",
       "</style>\n",
       "<table border=\"1\" class=\"dataframe\">\n",
       "  <thead>\n",
       "    <tr style=\"text-align: right;\">\n",
       "      <th></th>\n",
       "      <th>DISTRICT</th>\n",
       "      <th>ST_NM</th>\n",
       "      <th>ST_CEN_CD</th>\n",
       "      <th>DT_CEN_CD</th>\n",
       "      <th>censuscode</th>\n",
       "      <th>geometry</th>\n",
       "    </tr>\n",
       "  </thead>\n",
       "  <tbody>\n",
       "    <tr>\n",
       "      <th>0</th>\n",
       "      <td>Adilabad</td>\n",
       "      <td>Andhra Pradesh</td>\n",
       "      <td>28</td>\n",
       "      <td>1</td>\n",
       "      <td>532</td>\n",
       "      <td>POLYGON ((78.84972 19.76010, 78.85102 19.75945...</td>\n",
       "    </tr>\n",
       "    <tr>\n",
       "      <th>1</th>\n",
       "      <td>Agra</td>\n",
       "      <td>Uttar Pradesh</td>\n",
       "      <td>9</td>\n",
       "      <td>15</td>\n",
       "      <td>146</td>\n",
       "      <td>POLYGON ((78.19803 27.40280, 78.19804 27.40278...</td>\n",
       "    </tr>\n",
       "    <tr>\n",
       "      <th>2</th>\n",
       "      <td>Ahmadabad</td>\n",
       "      <td>Gujarat</td>\n",
       "      <td>24</td>\n",
       "      <td>7</td>\n",
       "      <td>474</td>\n",
       "      <td>MULTIPOLYGON (((72.03456 23.50527, 72.03337 23...</td>\n",
       "    </tr>\n",
       "    <tr>\n",
       "      <th>3</th>\n",
       "      <td>Ahmadnagar</td>\n",
       "      <td>Maharashtra</td>\n",
       "      <td>27</td>\n",
       "      <td>26</td>\n",
       "      <td>522</td>\n",
       "      <td>POLYGON ((74.67333 19.94670, 74.67393 19.93509...</td>\n",
       "    </tr>\n",
       "    <tr>\n",
       "      <th>4</th>\n",
       "      <td>Aizawl</td>\n",
       "      <td>Mizoram</td>\n",
       "      <td>15</td>\n",
       "      <td>3</td>\n",
       "      <td>283</td>\n",
       "      <td>POLYGON ((92.98749 24.40453, 92.99107 24.40236...</td>\n",
       "    </tr>\n",
       "  </tbody>\n",
       "</table>\n",
       "</div>"
      ],
      "text/plain": [
       "     DISTRICT           ST_NM  ST_CEN_CD  DT_CEN_CD  censuscode  \\\n",
       "0    Adilabad  Andhra Pradesh         28          1         532   \n",
       "1        Agra   Uttar Pradesh          9         15         146   \n",
       "2   Ahmadabad         Gujarat         24          7         474   \n",
       "3  Ahmadnagar     Maharashtra         27         26         522   \n",
       "4      Aizawl         Mizoram         15          3         283   \n",
       "\n",
       "                                            geometry  \n",
       "0  POLYGON ((78.84972 19.76010, 78.85102 19.75945...  \n",
       "1  POLYGON ((78.19803 27.40280, 78.19804 27.40278...  \n",
       "2  MULTIPOLYGON (((72.03456 23.50527, 72.03337 23...  \n",
       "3  POLYGON ((74.67333 19.94670, 74.67393 19.93509...  \n",
       "4  POLYGON ((92.98749 24.40453, 92.99107 24.40236...  "
      ]
     },
     "execution_count": 4,
     "metadata": {},
     "output_type": "execute_result"
    }
   ],
   "source": [
    "india_s_masters.head()"
   ]
  },
  {
   "cell_type": "code",
   "execution_count": 5,
   "id": "b322ea48-076f-43ad-9149-4f173c514490",
   "metadata": {},
   "outputs": [
    {
     "data": {
      "text/plain": [
       "<AxesSubplot:>"
      ]
     },
     "execution_count": 5,
     "metadata": {},
     "output_type": "execute_result"
    },
    {
     "data": {
      "image/png": "[encoded data removed]",
      "text/plain": [
       "<Figure size 432x288 with 1 Axes>"
      ]
     },
     "metadata": {
      "needs_background": "light"
     },
     "output_type": "display_data"
    }
   ],
   "source": [
    "india_s_masters.plot()"
   ]
  },
  {
   "cell_type": "code",
   "execution_count": 6,
   "id": "cd3b11fd-5201-406a-b0e2-ba385214179b",
   "metadata": {},
   "outputs": [],
   "source": [
    "##india_joined = india_s_masters.join(, on='censuscode')\n",
    "##india_joined.head()"
   ]
  },
  {
   "cell_type": "code",
   "execution_count": null,
   "id": "50a44887-6ccc-444c-996b-bbf389c66705",
   "metadata": {},
   "outputs": [],
   "source": []
  }
 ],
 "metadata": {
  "kernelspec": {
   "display_name": "geo-env",
   "language": "python",
   "name": "geo-env"
  },
  "language_info": {
   "codemirror_mode": {
    "name": "ipython",
    "version": 3
   },
   "file_extension": ".py",
   "mimetype": "text/x-python",
   "name": "python",
   "nbconvert_exporter": "python",
   "pygments_lexer": "ipython3",
   "version": "3.9.7"
  }
 },
 "nbformat": 4,
 "nbformat_minor": 5
}
