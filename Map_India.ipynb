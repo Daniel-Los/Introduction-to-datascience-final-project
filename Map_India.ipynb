{
 "cells": [
  {
   "cell_type": "code",
   "execution_count": 1,
   "id": "68b6abcd",
   "metadata": {},
   "outputs": [],
   "source": [
    "import pandas as pd\n",
    "import geopandas as gpd\n",
    "import matplotlib.pyplot as plt\n",
    "import numpy as np\n",
    "import pandas as pd\n",
    "import import_ipynb\n",
    "import seaborn as sns\n",
    "from functools import reduce"
   ]
  },
  {
   "cell_type": "code",
   "execution_count": 2,
   "id": "75cb5f71",
   "metadata": {},
   "outputs": [],
   "source": [
    "#As always we have to specify to jupyter that we want to see all the outputs.\n",
    "from IPython.core.interactiveshell import InteractiveShell\n",
    "InteractiveShell.ast_node_interactivity = \"all\"\n",
    "pd.options.display.max_rows = 1000\n",
    "pd.options.display.max_columns= 1000"
   ]
  },
  {
   "cell_type": "code",
   "execution_count": 3,
   "id": "90da6e03",
   "metadata": {},
   "outputs": [],
   "source": [
    "%%capture\n",
    "\n",
    "#the %%capture makes sure not the whole of last assignment is printed here\n",
    "\n",
    "#import Dataframes as df\n",
    "\n",
    "\n",
    "#This imports dataframes from other code.\n",
    "%run \"Dataframes.ipynb\"\n"
   ]
  },
  {
   "cell_type": "code",
   "execution_count": 4,
   "id": "a298fda9",
   "metadata": {},
   "outputs": [
    {
     "data": {
      "text/plain": [
       "dict_keys(['Deaths', 'Vaccination', 'Demographics', 'Age', 'Hospitals', 'Names'])"
      ]
     },
     "execution_count": 4,
     "metadata": {},
     "output_type": "execute_result"
    }
   ],
   "source": [
    "#framedict = df.framedict\n",
    "framedict.keys()"
   ]
  },
  {
   "cell_type": "code",
   "execution_count": 5,
   "id": "0e1752ce",
   "metadata": {},
   "outputs": [
    {
     "data": {
      "text/plain": [
       "Index(['pc11_state_id', 'censuscode', 'dlhs4_dh_beds', 'dlhs4_dh_count',\n",
       "       'dlhs4_dh_staff', 'dlhs4_dh_icu_beds', 'dlhs4_chc_beds',\n",
       "       'dlhs4_chc_count', 'dlhs4_chc_staff', 'dlhs4_chc_beds_ven',\n",
       "       'dlhs4_phc_beds', 'dlhs4_phc_count', 'dlhs4_phc_staff', 'dlhs4_phc_pop',\n",
       "       'dlhs4_phc_beds_oxy', 'pc11_pca_tot_p', 'dlhs4_phc_mult',\n",
       "       'dlhs4_total_beds', 'dlhs4_total_staff', 'dlhs4_total_facilities'],\n",
       "      dtype='object')"
      ]
     },
     "execution_count": 5,
     "metadata": {},
     "output_type": "execute_result"
    }
   ],
   "source": [
    "hosp_frame = framedict['Hospitals']\n"
   ]
  },
  {
   "cell_type": "code",
   "execution_count": 6,
   "id": "e247fbf5",
   "metadata": {},
   "outputs": [],
   "source": [
    "india_shp_MASTERS = './maps-master/maps-master/Districts/Census_2011/2011_Dist.shp'"
   ]
  },
  {
   "cell_type": "code",
   "execution_count": 7,
   "id": "c514b76d",
   "metadata": {},
   "outputs": [
    {
     "name": "stdout",
     "output_type": "stream",
     "text": [
      "<class 'geopandas.geodataframe.GeoDataFrame'>\n",
      "RangeIndex: 641 entries, 0 to 640\n",
      "Data columns (total 6 columns):\n",
      " #   Column      Non-Null Count  Dtype   \n",
      "---  ------      --------------  -----   \n",
      " 0   DISTRICT    641 non-null    object  \n",
      " 1   ST_NM       641 non-null    object  \n",
      " 2   ST_CEN_CD   641 non-null    int64   \n",
      " 3   DT_CEN_CD   641 non-null    int64   \n",
      " 4   censuscode  641 non-null    int64   \n",
      " 5   geometry    641 non-null    geometry\n",
      "dtypes: geometry(1), int64(3), object(2)\n",
      "memory usage: 30.2+ KB\n"
     ]
    }
   ],
   "source": [
    "india_s_masters = gpd.read_file(india_shp_MASTERS)\n",
    "india_s_masters.info()"
   ]
  },
  {
   "cell_type": "code",
   "execution_count": 21,
   "id": "ae8dd77b",
   "metadata": {},
   "outputs": [
    {
     "data": {
      "text/html": [
       "<div>\n",
       "<style scoped>\n",
       "    .dataframe tbody tr th:only-of-type {\n",
       "        vertical-align: middle;\n",
       "    }\n",
       "\n",
       "    .dataframe tbody tr th {\n",
       "        vertical-align: top;\n",
       "    }\n",
       "\n",
       "    .dataframe thead th {\n",
       "        text-align: right;\n",
       "    }\n",
       "</style>\n",
       "<table border=\"1\" class=\"dataframe\">\n",
       "  <thead>\n",
       "    <tr style=\"text-align: right;\">\n",
       "      <th></th>\n",
       "      <th>DISTRICT</th>\n",
       "      <th>ST_NM</th>\n",
       "      <th>ST_CEN_CD</th>\n",
       "      <th>DT_CEN_CD</th>\n",
       "      <th>censuscode</th>\n",
       "      <th>geometry</th>\n",
       "    </tr>\n",
       "  </thead>\n",
       "  <tbody>\n",
       "    <tr>\n",
       "      <th>0</th>\n",
       "      <td>Adilabad</td>\n",
       "      <td>Andhra Pradesh</td>\n",
       "      <td>28</td>\n",
       "      <td>1</td>\n",
       "      <td>532</td>\n",
       "      <td>POLYGON ((78.84972 19.76010, 78.85102 19.75945...</td>\n",
       "    </tr>\n",
       "    <tr>\n",
       "      <th>1</th>\n",
       "      <td>Agra</td>\n",
       "      <td>Uttar Pradesh</td>\n",
       "      <td>9</td>\n",
       "      <td>15</td>\n",
       "      <td>146</td>\n",
       "      <td>POLYGON ((78.19803 27.40280, 78.19804 27.40278...</td>\n",
       "    </tr>\n",
       "    <tr>\n",
       "      <th>2</th>\n",
       "      <td>Ahmadabad</td>\n",
       "      <td>Gujarat</td>\n",
       "      <td>24</td>\n",
       "      <td>7</td>\n",
       "      <td>474</td>\n",
       "      <td>MULTIPOLYGON (((72.03456 23.50527, 72.03337 23...</td>\n",
       "    </tr>\n",
       "    <tr>\n",
       "      <th>3</th>\n",
       "      <td>Ahmadnagar</td>\n",
       "      <td>Maharashtra</td>\n",
       "      <td>27</td>\n",
       "      <td>26</td>\n",
       "      <td>522</td>\n",
       "      <td>POLYGON ((74.67333 19.94670, 74.67393 19.93509...</td>\n",
       "    </tr>\n",
       "    <tr>\n",
       "      <th>4</th>\n",
       "      <td>Aizawl</td>\n",
       "      <td>Mizoram</td>\n",
       "      <td>15</td>\n",
       "      <td>3</td>\n",
       "      <td>283</td>\n",
       "      <td>POLYGON ((92.98749 24.40453, 92.99107 24.40236...</td>\n",
       "    </tr>\n",
       "  </tbody>\n",
       "</table>\n",
       "</div>"
      ],
      "text/plain": [
       "     DISTRICT           ST_NM  ST_CEN_CD  DT_CEN_CD  censuscode  \\\n",
       "0    Adilabad  Andhra Pradesh         28          1         532   \n",
       "1        Agra   Uttar Pradesh          9         15         146   \n",
       "2   Ahmadabad         Gujarat         24          7         474   \n",
       "3  Ahmadnagar     Maharashtra         27         26         522   \n",
       "4      Aizawl         Mizoram         15          3         283   \n",
       "\n",
       "                                            geometry  \n",
       "0  POLYGON ((78.84972 19.76010, 78.85102 19.75945...  \n",
       "1  POLYGON ((78.19803 27.40280, 78.19804 27.40278...  \n",
       "2  MULTIPOLYGON (((72.03456 23.50527, 72.03337 23...  \n",
       "3  POLYGON ((74.67333 19.94670, 74.67393 19.93509...  \n",
       "4  POLYGON ((92.98749 24.40453, 92.99107 24.40236...  "
      ]
     },
     "execution_count": 21,
     "metadata": {},
     "output_type": "execute_result"
    },
    {
     "name": "stdout",
     "output_type": "stream",
     "text": [
      "0 values are missing.\n"
     ]
    },
    {
     "data": {
      "text/plain": [
       "[]"
      ]
     },
     "execution_count": 21,
     "metadata": {},
     "output_type": "execute_result"
    }
   ],
   "source": [
    "india_s_masters.head()\n",
    "\n",
    "missingcheck(india_s_masters['censuscode'],641 )"
   ]
  },
  {
   "cell_type": "code",
   "execution_count": 9,
   "id": "f8a2f018-cfb5-4eef-a499-e640867c2014",
   "metadata": {},
   "outputs": [
    {
     "data": {
      "text/plain": [
       "pandas.core.series.Series"
      ]
     },
     "execution_count": 9,
     "metadata": {},
     "output_type": "execute_result"
    },
    {
     "data": {
      "text/plain": [
       "pandas.core.series.Series"
      ]
     },
     "execution_count": 9,
     "metadata": {},
     "output_type": "execute_result"
    }
   ],
   "source": [
    "# We can merge the dataframes on the censuscodes. \n",
    "# These codes represent the numbers that were given to the districts\n",
    "type(india_s_masters[\"censuscode\"])\n",
    "type(hosp_frame[\"censuscode\"])"
   ]
  },
  {
   "cell_type": "code",
   "execution_count": 10,
   "id": "90fa1cb5-de92-4ffd-b422-2dd3e52448de",
   "metadata": {},
   "outputs": [
    {
     "ename": "AttributeError",
     "evalue": "'DataFrame' object has no attribute 'missingcheck'",
     "output_type": "error",
     "traceback": [
      "\u001b[1;31m---------------------------------------------------------------------------\u001b[0m",
      "\u001b[1;31mAttributeError\u001b[0m                            Traceback (most recent call last)",
      "\u001b[1;32m~\\AppData\\Local\\Temp/ipykernel_4120/2164514182.py\u001b[0m in \u001b[0;36m<module>\u001b[1;34m\u001b[0m\n\u001b[1;32m----> 1\u001b[1;33m \u001b[0mdf\u001b[0m\u001b[1;33m.\u001b[0m\u001b[0mmissingcheck\u001b[0m\u001b[1;33m(\u001b[0m\u001b[0mindia_s_masters\u001b[0m\u001b[1;33m[\u001b[0m\u001b[1;34m'DT_CEN_CD'\u001b[0m\u001b[1;33m]\u001b[0m\u001b[1;33m,\u001b[0m\u001b[1;36m640\u001b[0m\u001b[1;33m)\u001b[0m\u001b[1;33m\u001b[0m\u001b[1;33m\u001b[0m\u001b[0m\n\u001b[0m",
      "\u001b[1;32m~\\anaconda3\\envs\\geo_env\\lib\\site-packages\\pandas\\core\\generic.py\u001b[0m in \u001b[0;36m__getattr__\u001b[1;34m(self, name)\u001b[0m\n\u001b[0;32m   5485\u001b[0m         ):\n\u001b[0;32m   5486\u001b[0m             \u001b[1;32mreturn\u001b[0m \u001b[0mself\u001b[0m\u001b[1;33m[\u001b[0m\u001b[0mname\u001b[0m\u001b[1;33m]\u001b[0m\u001b[1;33m\u001b[0m\u001b[1;33m\u001b[0m\u001b[0m\n\u001b[1;32m-> 5487\u001b[1;33m         \u001b[1;32mreturn\u001b[0m \u001b[0mobject\u001b[0m\u001b[1;33m.\u001b[0m\u001b[0m__getattribute__\u001b[0m\u001b[1;33m(\u001b[0m\u001b[0mself\u001b[0m\u001b[1;33m,\u001b[0m \u001b[0mname\u001b[0m\u001b[1;33m)\u001b[0m\u001b[1;33m\u001b[0m\u001b[1;33m\u001b[0m\u001b[0m\n\u001b[0m\u001b[0;32m   5488\u001b[0m \u001b[1;33m\u001b[0m\u001b[0m\n\u001b[0;32m   5489\u001b[0m     \u001b[1;32mdef\u001b[0m \u001b[0m__setattr__\u001b[0m\u001b[1;33m(\u001b[0m\u001b[0mself\u001b[0m\u001b[1;33m,\u001b[0m \u001b[0mname\u001b[0m\u001b[1;33m:\u001b[0m \u001b[0mstr\u001b[0m\u001b[1;33m,\u001b[0m \u001b[0mvalue\u001b[0m\u001b[1;33m)\u001b[0m \u001b[1;33m->\u001b[0m \u001b[1;32mNone\u001b[0m\u001b[1;33m:\u001b[0m\u001b[1;33m\u001b[0m\u001b[1;33m\u001b[0m\u001b[0m\n",
      "\u001b[1;31mAttributeError\u001b[0m: 'DataFrame' object has no attribute 'missingcheck'"
     ]
    }
   ],
   "source": [
    "df.missingcheck(india_s_masters['DT_CEN_CD'],640)"
   ]
  },
  {
   "cell_type": "code",
   "execution_count": null,
   "id": "63e2a040-7965-4b22-b392-87ba633b87c7",
   "metadata": {},
   "outputs": [],
   "source": [
    "age_frame = age_frame.rename(columns={'pc11_district_id' : 'censuscode'})\n",
    "age_frame"
   ]
  },
  {
   "cell_type": "code",
   "execution_count": null,
   "id": "5dfba17f",
   "metadata": {},
   "outputs": [],
   "source": [
    "india_s_masters.plot()"
   ]
  },
  {
   "cell_type": "code",
   "execution_count": 15,
   "id": "3841f485",
   "metadata": {},
   "outputs": [
    {
     "data": {
      "text/html": [
       "<div>\n",
       "<style scoped>\n",
       "    .dataframe tbody tr th:only-of-type {\n",
       "        vertical-align: middle;\n",
       "    }\n",
       "\n",
       "    .dataframe tbody tr th {\n",
       "        vertical-align: top;\n",
       "    }\n",
       "\n",
       "    .dataframe thead th {\n",
       "        text-align: right;\n",
       "    }\n",
       "</style>\n",
       "<table border=\"1\" class=\"dataframe\">\n",
       "  <thead>\n",
       "    <tr style=\"text-align: right;\">\n",
       "      <th></th>\n",
       "      <th>DISTRICT</th>\n",
       "      <th>ST_NM</th>\n",
       "      <th>ST_CEN_CD</th>\n",
       "      <th>DT_CEN_CD</th>\n",
       "      <th>censuscode</th>\n",
       "      <th>geometry</th>\n",
       "      <th>pc11_state_id</th>\n",
       "      <th>total_cases</th>\n",
       "      <th>total_deaths</th>\n",
       "      <th>pc11_pca_tot_p</th>\n",
       "      <th>deaths per 100.000</th>\n",
       "      <th>cases per 100.000</th>\n",
       "    </tr>\n",
       "  </thead>\n",
       "  <tbody>\n",
       "    <tr>\n",
       "      <th>0</th>\n",
       "      <td>Adilabad</td>\n",
       "      <td>Andhra Pradesh</td>\n",
       "      <td>28</td>\n",
       "      <td>1</td>\n",
       "      <td>532</td>\n",
       "      <td>POLYGON ((78.84972 19.76010, 78.85102 19.75945...</td>\n",
       "      <td>28</td>\n",
       "      <td>0.0</td>\n",
       "      <td>0.0</td>\n",
       "      <td>2741239.0</td>\n",
       "      <td>0.000000</td>\n",
       "      <td>0.000000</td>\n",
       "    </tr>\n",
       "    <tr>\n",
       "      <th>1</th>\n",
       "      <td>Agra</td>\n",
       "      <td>Uttar Pradesh</td>\n",
       "      <td>9</td>\n",
       "      <td>15</td>\n",
       "      <td>146</td>\n",
       "      <td>POLYGON ((78.19803 27.40280, 78.19804 27.40278...</td>\n",
       "      <td>9</td>\n",
       "      <td>11831.0</td>\n",
       "      <td>182.0</td>\n",
       "      <td>4418797.0</td>\n",
       "      <td>4.118768</td>\n",
       "      <td>267.742555</td>\n",
       "    </tr>\n",
       "  </tbody>\n",
       "</table>\n",
       "</div>"
      ],
      "text/plain": [
       "   DISTRICT           ST_NM  ST_CEN_CD  DT_CEN_CD  censuscode  \\\n",
       "0  Adilabad  Andhra Pradesh         28          1         532   \n",
       "1      Agra   Uttar Pradesh          9         15         146   \n",
       "\n",
       "                                            geometry  pc11_state_id  \\\n",
       "0  POLYGON ((78.84972 19.76010, 78.85102 19.75945...             28   \n",
       "1  POLYGON ((78.19803 27.40280, 78.19804 27.40278...              9   \n",
       "\n",
       "   total_cases  total_deaths  pc11_pca_tot_p  deaths per 100.000  \\\n",
       "0          0.0           0.0       2741239.0            0.000000   \n",
       "1      11831.0         182.0       4418797.0            4.118768   \n",
       "\n",
       "   cases per 100.000  \n",
       "0           0.000000  \n",
       "1         267.742555  "
      ]
     },
     "execution_count": 15,
     "metadata": {},
     "output_type": "execute_result"
    }
   ],
   "source": [
    "##for joining two files\n",
    "india_joined = india_s_masters.merge(champions,on='censuscode')\n",
    "india_joined.head(2)"
   ]
  },
  {
   "cell_type": "code",
   "execution_count": 46,
   "id": "2b3c3bc6-5904-47d9-ad8d-72b535c45c95",
   "metadata": {},
   "outputs": [
    {
     "data": {
      "text/html": [
       "<div>\n",
       "<style scoped>\n",
       "    .dataframe tbody tr th:only-of-type {\n",
       "        vertical-align: middle;\n",
       "    }\n",
       "\n",
       "    .dataframe tbody tr th {\n",
       "        vertical-align: top;\n",
       "    }\n",
       "\n",
       "    .dataframe thead th {\n",
       "        text-align: right;\n",
       "    }\n",
       "</style>\n",
       "<table border=\"1\" class=\"dataframe\">\n",
       "  <thead>\n",
       "    <tr style=\"text-align: right;\">\n",
       "      <th></th>\n",
       "      <th>DISTRICT</th>\n",
       "      <th>ST_NM</th>\n",
       "      <th>ST_CEN_CD</th>\n",
       "      <th>DT_CEN_CD</th>\n",
       "      <th>censuscode</th>\n",
       "      <th>geometry</th>\n",
       "      <th>pc11_state_id</th>\n",
       "      <th>total_cases</th>\n",
       "      <th>total_deaths</th>\n",
       "      <th>pc11_pca_tot_p</th>\n",
       "      <th>deaths per 100.000</th>\n",
       "      <th>cases per 100.000</th>\n",
       "    </tr>\n",
       "  </thead>\n",
       "  <tbody>\n",
       "    <tr>\n",
       "      <th>153</th>\n",
       "      <td>East</td>\n",
       "      <td>NCT of Delhi</td>\n",
       "      <td>7</td>\n",
       "      <td>4</td>\n",
       "      <td>93</td>\n",
       "      <td>POLYGON ((77.30482 28.57678, 77.29593 28.58194...</td>\n",
       "      <td>7</td>\n",
       "      <td>0.0</td>\n",
       "      <td>0.0</td>\n",
       "      <td>1709346.0</td>\n",
       "      <td>0.000000</td>\n",
       "      <td>0.000000</td>\n",
       "    </tr>\n",
       "    <tr>\n",
       "      <th>392</th>\n",
       "      <td>New Delhi</td>\n",
       "      <td>NCT of Delhi</td>\n",
       "      <td>7</td>\n",
       "      <td>5</td>\n",
       "      <td>94</td>\n",
       "      <td>POLYGON ((77.26042 28.62286, 77.26267 28.62114...</td>\n",
       "      <td>7</td>\n",
       "      <td>750156.0</td>\n",
       "      <td>11436.0</td>\n",
       "      <td>142004.0</td>\n",
       "      <td>8053.294273</td>\n",
       "      <td>528263.992564</td>\n",
       "    </tr>\n",
       "    <tr>\n",
       "      <th>394</th>\n",
       "      <td>North</td>\n",
       "      <td>NCT of Delhi</td>\n",
       "      <td>7</td>\n",
       "      <td>2</td>\n",
       "      <td>91</td>\n",
       "      <td>POLYGON ((77.21434 28.78352, 77.21329 28.78031...</td>\n",
       "      <td>7</td>\n",
       "      <td>0.0</td>\n",
       "      <td>0.0</td>\n",
       "      <td>887978.0</td>\n",
       "      <td>0.000000</td>\n",
       "      <td>0.000000</td>\n",
       "    </tr>\n",
       "    <tr>\n",
       "      <th>396</th>\n",
       "      <td>North East</td>\n",
       "      <td>NCT of Delhi</td>\n",
       "      <td>7</td>\n",
       "      <td>3</td>\n",
       "      <td>92</td>\n",
       "      <td>POLYGON ((77.25066 28.66244, 77.25021 28.66266...</td>\n",
       "      <td>7</td>\n",
       "      <td>0.0</td>\n",
       "      <td>0.0</td>\n",
       "      <td>2241624.0</td>\n",
       "      <td>0.000000</td>\n",
       "      <td>0.000000</td>\n",
       "    </tr>\n",
       "    <tr>\n",
       "      <th>399</th>\n",
       "      <td>North West</td>\n",
       "      <td>NCT of Delhi</td>\n",
       "      <td>7</td>\n",
       "      <td>1</td>\n",
       "      <td>90</td>\n",
       "      <td>POLYGON ((77.17093 28.66833, 77.16689 28.67303...</td>\n",
       "      <td>7</td>\n",
       "      <td>0.0</td>\n",
       "      <td>0.0</td>\n",
       "      <td>3656539.0</td>\n",
       "      <td>0.000000</td>\n",
       "      <td>0.000000</td>\n",
       "    </tr>\n",
       "    <tr>\n",
       "      <th>520</th>\n",
       "      <td>South</td>\n",
       "      <td>NCT of Delhi</td>\n",
       "      <td>7</td>\n",
       "      <td>9</td>\n",
       "      <td>98</td>\n",
       "      <td>POLYGON ((77.26455 28.60747, 77.26558 28.60738...</td>\n",
       "      <td>7</td>\n",
       "      <td>0.0</td>\n",
       "      <td>0.0</td>\n",
       "      <td>2731929.0</td>\n",
       "      <td>0.000000</td>\n",
       "      <td>0.000000</td>\n",
       "    </tr>\n",
       "    <tr>\n",
       "      <th>524</th>\n",
       "      <td>South West</td>\n",
       "      <td>NCT of Delhi</td>\n",
       "      <td>7</td>\n",
       "      <td>8</td>\n",
       "      <td>97</td>\n",
       "      <td>POLYGON ((77.18253 28.64817, 77.18380 28.64638...</td>\n",
       "      <td>7</td>\n",
       "      <td>0.0</td>\n",
       "      <td>0.0</td>\n",
       "      <td>2292958.0</td>\n",
       "      <td>0.000000</td>\n",
       "      <td>0.000000</td>\n",
       "    </tr>\n",
       "    <tr>\n",
       "      <th>582</th>\n",
       "      <td>West</td>\n",
       "      <td>NCT of Delhi</td>\n",
       "      <td>7</td>\n",
       "      <td>7</td>\n",
       "      <td>96</td>\n",
       "      <td>POLYGON ((77.17093 28.66833, 77.17072 28.66817...</td>\n",
       "      <td>7</td>\n",
       "      <td>0.0</td>\n",
       "      <td>0.0</td>\n",
       "      <td>2543243.0</td>\n",
       "      <td>0.000000</td>\n",
       "      <td>0.000000</td>\n",
       "    </tr>\n",
       "  </tbody>\n",
       "</table>\n",
       "</div>"
      ],
      "text/plain": [
       "       DISTRICT         ST_NM  ST_CEN_CD  DT_CEN_CD  censuscode  \\\n",
       "153        East  NCT of Delhi          7          4          93   \n",
       "392   New Delhi  NCT of Delhi          7          5          94   \n",
       "394       North  NCT of Delhi          7          2          91   \n",
       "396  North East  NCT of Delhi          7          3          92   \n",
       "399  North West  NCT of Delhi          7          1          90   \n",
       "520       South  NCT of Delhi          7          9          98   \n",
       "524  South West  NCT of Delhi          7          8          97   \n",
       "582        West  NCT of Delhi          7          7          96   \n",
       "\n",
       "                                              geometry  pc11_state_id  \\\n",
       "153  POLYGON ((77.30482 28.57678, 77.29593 28.58194...              7   \n",
       "392  POLYGON ((77.26042 28.62286, 77.26267 28.62114...              7   \n",
       "394  POLYGON ((77.21434 28.78352, 77.21329 28.78031...              7   \n",
       "396  POLYGON ((77.25066 28.66244, 77.25021 28.66266...              7   \n",
       "399  POLYGON ((77.17093 28.66833, 77.16689 28.67303...              7   \n",
       "520  POLYGON ((77.26455 28.60747, 77.26558 28.60738...              7   \n",
       "524  POLYGON ((77.18253 28.64817, 77.18380 28.64638...              7   \n",
       "582  POLYGON ((77.17093 28.66833, 77.17072 28.66817...              7   \n",
       "\n",
       "     total_cases  total_deaths  pc11_pca_tot_p  deaths per 100.000  \\\n",
       "153          0.0           0.0       1709346.0            0.000000   \n",
       "392     750156.0       11436.0        142004.0         8053.294273   \n",
       "394          0.0           0.0        887978.0            0.000000   \n",
       "396          0.0           0.0       2241624.0            0.000000   \n",
       "399          0.0           0.0       3656539.0            0.000000   \n",
       "520          0.0           0.0       2731929.0            0.000000   \n",
       "524          0.0           0.0       2292958.0            0.000000   \n",
       "582          0.0           0.0       2543243.0            0.000000   \n",
       "\n",
       "     cases per 100.000  \n",
       "153           0.000000  \n",
       "392      528263.992564  \n",
       "394           0.000000  \n",
       "396           0.000000  \n",
       "399           0.000000  \n",
       "520           0.000000  \n",
       "524           0.000000  \n",
       "582           0.000000  "
      ]
     },
     "execution_count": 46,
     "metadata": {},
     "output_type": "execute_result"
    }
   ],
   "source": [
    "india_joined.loc[india_joined['ST_NM'] == 'NCT of Delhi']"
   ]
  },
  {
   "cell_type": "code",
   "execution_count": 24,
   "id": "45f9cfaa",
   "metadata": {},
   "outputs": [],
   "source": [
    "df = pd.DataFrame(np.random.randint(0,100,size=(641, 1)))"
   ]
  },
  {
   "cell_type": "code",
   "execution_count": 25,
   "id": "ac602628",
   "metadata": {},
   "outputs": [],
   "source": [
    "india_s_masters['random'] = df"
   ]
  },
  {
   "cell_type": "code",
   "execution_count": 26,
   "id": "738b6c98",
   "metadata": {},
   "outputs": [
    {
     "data": {
      "text/html": [
       "<div>\n",
       "<style scoped>\n",
       "    .dataframe tbody tr th:only-of-type {\n",
       "        vertical-align: middle;\n",
       "    }\n",
       "\n",
       "    .dataframe tbody tr th {\n",
       "        vertical-align: top;\n",
       "    }\n",
       "\n",
       "    .dataframe thead th {\n",
       "        text-align: right;\n",
       "    }\n",
       "</style>\n",
       "<table border=\"1\" class=\"dataframe\">\n",
       "  <thead>\n",
       "    <tr style=\"text-align: right;\">\n",
       "      <th></th>\n",
       "      <th>DISTRICT</th>\n",
       "      <th>ST_NM</th>\n",
       "      <th>ST_CEN_CD</th>\n",
       "      <th>DT_CEN_CD</th>\n",
       "      <th>censuscode</th>\n",
       "      <th>geometry</th>\n",
       "      <th>random</th>\n",
       "    </tr>\n",
       "  </thead>\n",
       "  <tbody>\n",
       "    <tr>\n",
       "      <th>0</th>\n",
       "      <td>Adilabad</td>\n",
       "      <td>Andhra Pradesh</td>\n",
       "      <td>28</td>\n",
       "      <td>1</td>\n",
       "      <td>532</td>\n",
       "      <td>POLYGON ((78.84972 19.76010, 78.85102 19.75945...</td>\n",
       "      <td>94</td>\n",
       "    </tr>\n",
       "    <tr>\n",
       "      <th>1</th>\n",
       "      <td>Agra</td>\n",
       "      <td>Uttar Pradesh</td>\n",
       "      <td>9</td>\n",
       "      <td>15</td>\n",
       "      <td>146</td>\n",
       "      <td>POLYGON ((78.19803 27.40280, 78.19804 27.40278...</td>\n",
       "      <td>48</td>\n",
       "    </tr>\n",
       "    <tr>\n",
       "      <th>2</th>\n",
       "      <td>Ahmadabad</td>\n",
       "      <td>Gujarat</td>\n",
       "      <td>24</td>\n",
       "      <td>7</td>\n",
       "      <td>474</td>\n",
       "      <td>MULTIPOLYGON (((72.03456 23.50527, 72.03337 23...</td>\n",
       "      <td>63</td>\n",
       "    </tr>\n",
       "    <tr>\n",
       "      <th>3</th>\n",
       "      <td>Ahmadnagar</td>\n",
       "      <td>Maharashtra</td>\n",
       "      <td>27</td>\n",
       "      <td>26</td>\n",
       "      <td>522</td>\n",
       "      <td>POLYGON ((74.67333 19.94670, 74.67393 19.93509...</td>\n",
       "      <td>13</td>\n",
       "    </tr>\n",
       "    <tr>\n",
       "      <th>4</th>\n",
       "      <td>Aizawl</td>\n",
       "      <td>Mizoram</td>\n",
       "      <td>15</td>\n",
       "      <td>3</td>\n",
       "      <td>283</td>\n",
       "      <td>POLYGON ((92.98749 24.40453, 92.99107 24.40236...</td>\n",
       "      <td>98</td>\n",
       "    </tr>\n",
       "  </tbody>\n",
       "</table>\n",
       "</div>"
      ],
      "text/plain": [
       "     DISTRICT           ST_NM  ST_CEN_CD  DT_CEN_CD  censuscode  \\\n",
       "0    Adilabad  Andhra Pradesh         28          1         532   \n",
       "1        Agra   Uttar Pradesh          9         15         146   \n",
       "2   Ahmadabad         Gujarat         24          7         474   \n",
       "3  Ahmadnagar     Maharashtra         27         26         522   \n",
       "4      Aizawl         Mizoram         15          3         283   \n",
       "\n",
       "                                            geometry  random  \n",
       "0  POLYGON ((78.84972 19.76010, 78.85102 19.75945...      94  \n",
       "1  POLYGON ((78.19803 27.40280, 78.19804 27.40278...      48  \n",
       "2  MULTIPOLYGON (((72.03456 23.50527, 72.03337 23...      63  \n",
       "3  POLYGON ((74.67333 19.94670, 74.67393 19.93509...      13  \n",
       "4  POLYGON ((92.98749 24.40453, 92.99107 24.40236...      98  "
      ]
     },
     "execution_count": 26,
     "metadata": {},
     "output_type": "execute_result"
    }
   ],
   "source": [
    "india_s_masters.head()"
   ]
  },
  {
   "cell_type": "code",
   "execution_count": 27,
   "id": "448f3825",
   "metadata": {},
   "outputs": [],
   "source": [
    "# We drop the row with the data that is unclear\n",
    "india_s_masters = india_s_masters[india_s_masters['censuscode'] != 0]"
   ]
  },
  {
   "cell_type": "code",
   "execution_count": 32,
   "id": "9d9fadf8",
   "metadata": {},
   "outputs": [],
   "source": [
    "columns_to_plot = ['deaths per 100.000','cases per 100.000']"
   ]
  },
  {
   "cell_type": "code",
   "execution_count": null,
   "id": "4cd78bea-b327-41c7-92df-fc61024ba0bc",
   "metadata": {},
   "outputs": [],
   "source": []
  },
  {
   "cell_type": "code",
   "execution_count": 35,
   "id": "c963c4ac",
   "metadata": {},
   "outputs": [
    {
     "data": {
      "text/plain": [
       "<AxesSubplot:>"
      ]
     },
     "execution_count": 35,
     "metadata": {},
     "output_type": "execute_result"
    },
    {
     "data": {
      "text/plain": [
       "Text(0.5, 1.0, 'deaths per 100.000')"
      ]
     },
     "execution_count": 35,
     "metadata": {},
     "output_type": "execute_result"
    },
    {
     "data": {
      "text/plain": [
       "<AxesSubplot:>"
      ]
     },
     "execution_count": 35,
     "metadata": {},
     "output_type": "execute_result"
    },
    {
     "data": {
      "text/plain": [
       "Text(0.5, 1.0, 'cases per 100.000')"
      ]
     },
     "execution_count": 35,
     "metadata": {},
     "output_type": "execute_result"
    },
    {
     "data": {
      "image/png": "[encoded data removed]",
      "text/plain": [
       "<Figure size 1080x1080 with 9 Axes>"
      ]
     },
     "metadata": {
      "needs_background": "light"
     },
     "output_type": "display_data"
    }
   ],
   "source": [
    "f, axs = plt.subplots(3,3, figsize=(15,15))\n",
    "axs = axs.flatten()\n",
    "\n",
    "for i, col in enumerate(columns_to_plot):\n",
    "    ax = axs[i]\n",
    "    india_joined.plot(column=col, ax=ax, linewidth=0, cmap='viridis', alpha = 1)\n",
    "    ax.set_axis_off()\n",
    "    ax.set_title(col, fontsize =12)\n",
    "plt.show()"
   ]
  },
  {
   "cell_type": "code",
   "execution_count": null,
   "id": "ae9b866f-8291-4af2-a9ff-126d5faf6e0d",
   "metadata": {},
   "outputs": [],
   "source": [
    "column = ['pc11_pop_dens']"
   ]
  },
  {
   "cell_type": "code",
   "execution_count": null,
   "id": "ba40453a-c45a-4f1c-bdf9-36127b84b827",
   "metadata": {},
   "outputs": [],
   "source": [
    "f, axs = plt.subplots(2,2, figsize=(15,15))\n",
    "axs = axs.flatten()\n",
    "\n",
    "for i, col in enumerate(column):\n",
    "    ax = axs[i]\n",
    "    india_joined.plot(column=col, ax=ax, linewidth=0, cmap='viridis', alpha = 0.75)\n",
    "    ax.set_axis_off()\n",
    "    ax.set_title(col, fontsize =12)\n",
    "plt.show()"
   ]
  },
  {
   "cell_type": "code",
   "execution_count": null,
   "id": "d04671f3",
   "metadata": {},
   "outputs": [],
   "source": [
    "sns.displot(data = india_joined, x = 'pc11_pop_dens')"
   ]
  },
  {
   "cell_type": "code",
   "execution_count": null,
   "id": "50a14342-11ba-4d9b-8636-591a51ca5fe1",
   "metadata": {},
   "outputs": [],
   "source": [
    "column = india_joined[\"pc11_pop_dens\"]\n",
    "max_index = column.idxmax()\n",
    "max_index"
   ]
  },
  {
   "cell_type": "code",
   "execution_count": null,
   "id": "ea559a36-81ac-4fe1-bc6b-9aeb4a00c590",
   "metadata": {},
   "outputs": [],
   "source": [
    "india_joined.loc(axis=0)[558]['pc11_pop_dens']"
   ]
  },
  {
   "cell_type": "code",
   "execution_count": null,
   "id": "550b47e6-af7e-4782-b883-0dfbb894fe28",
   "metadata": {},
   "outputs": [],
   "source": [
    "india_joined.loc(axis=0)[558]"
   ]
  },
  {
   "cell_type": "code",
   "execution_count": null,
   "id": "ed88e2bd-9d80-4920-8c6d-da0e7cfdfb4a",
   "metadata": {},
   "outputs": [],
   "source": [
    "india_joined['pc11_pop_dens'].median()"
   ]
  },
  {
   "cell_type": "code",
   "execution_count": null,
   "id": "8cd57df2-8ddd-498e-be2b-0952e1e9471a",
   "metadata": {},
   "outputs": [],
   "source": [
    "india_joined[common_columns].loc(axis=0)[558]"
   ]
  },
  {
   "cell_type": "code",
   "execution_count": null,
   "id": "4e12f659",
   "metadata": {},
   "outputs": [],
   "source": [
    "india_s_masters.sort_values(by='censuscode', ascending=False)\n"
   ]
  }
 ],
 "metadata": {
  "kernelspec": {
   "display_name": "geo_env",
   "language": "python",
   "name": "geo_env"
  },
  "language_info": {
   "codemirror_mode": {
    "name": "ipython",
    "version": 3
   },
   "file_extension": ".py",
   "mimetype": "text/x-python",
   "name": "python",
   "nbconvert_exporter": "python",
   "pygments_lexer": "ipython3",
   "version": "3.9.7"
  }
 },
 "nbformat": 4,
 "nbformat_minor": 5
}
