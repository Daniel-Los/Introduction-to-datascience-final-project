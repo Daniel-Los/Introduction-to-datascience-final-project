{
 "cells": [
  {
   "cell_type": "code",
   "execution_count": 6,
   "id": "bf1bdb79",
   "metadata": {},
   "outputs": [
    {
     "ename": "ImportError",
     "evalue": "DLL load failed while importing _network: The specified module could not be found.",
     "output_type": "error",
     "traceback": [
      "\u001b[1;31m---------------------------------------------------------------------------\u001b[0m",
      "\u001b[1;31mImportError\u001b[0m                               Traceback (most recent call last)",
      "\u001b[1;32m~\\AppData\\Local\\Temp/ipykernel_9616/731804621.py\u001b[0m in \u001b[0;36m<module>\u001b[1;34m\u001b[0m\n\u001b[1;32m----> 1\u001b[1;33m \u001b[1;32mimport\u001b[0m \u001b[0mosmnx\u001b[0m \u001b[1;32mas\u001b[0m \u001b[0mox\u001b[0m\u001b[1;33m\u001b[0m\u001b[1;33m\u001b[0m\u001b[0m\n\u001b[0m\u001b[0;32m      2\u001b[0m \u001b[1;32mimport\u001b[0m \u001b[0mpandas\u001b[0m \u001b[1;32mas\u001b[0m \u001b[0mpd\u001b[0m\u001b[1;33m\u001b[0m\u001b[1;33m\u001b[0m\u001b[0m\n\u001b[0;32m      3\u001b[0m \u001b[1;32mimport\u001b[0m \u001b[0mgeopandas\u001b[0m \u001b[1;32mas\u001b[0m \u001b[0mgpd\u001b[0m\u001b[1;33m\u001b[0m\u001b[1;33m\u001b[0m\u001b[0m\n\u001b[0;32m      4\u001b[0m \u001b[1;32mimport\u001b[0m \u001b[0mmatplotlib\u001b[0m\u001b[1;33m.\u001b[0m\u001b[0mpyplot\u001b[0m \u001b[1;32mas\u001b[0m \u001b[0mplt\u001b[0m\u001b[1;33m\u001b[0m\u001b[1;33m\u001b[0m\u001b[0m\n\u001b[0;32m      5\u001b[0m \u001b[1;32mimport\u001b[0m \u001b[0mnumpy\u001b[0m \u001b[1;32mas\u001b[0m \u001b[0mnp\u001b[0m\u001b[1;33m\u001b[0m\u001b[1;33m\u001b[0m\u001b[0m\n",
      "\u001b[1;32m~\\anaconda3\\envs\\environment_1\\lib\\site-packages\\osmnx\\__init__.py\u001b[0m in \u001b[0;36m<module>\u001b[1;34m\u001b[0m\n\u001b[0;32m      1\u001b[0m \u001b[1;34m\"\"\"OSMnx init.\"\"\"\u001b[0m\u001b[1;33m\u001b[0m\u001b[1;33m\u001b[0m\u001b[0m\n\u001b[0;32m      2\u001b[0m \u001b[1;33m\u001b[0m\u001b[0m\n\u001b[1;32m----> 3\u001b[1;33m \u001b[1;32mfrom\u001b[0m \u001b[1;33m.\u001b[0m\u001b[0m_api\u001b[0m \u001b[1;32mimport\u001b[0m \u001b[1;33m*\u001b[0m\u001b[1;33m\u001b[0m\u001b[1;33m\u001b[0m\u001b[0m\n\u001b[0m\u001b[0;32m      4\u001b[0m \u001b[1;32mfrom\u001b[0m \u001b[1;33m.\u001b[0m\u001b[0m_version\u001b[0m \u001b[1;32mimport\u001b[0m \u001b[0m__version__\u001b[0m\u001b[1;33m\u001b[0m\u001b[1;33m\u001b[0m\u001b[0m\n",
      "\u001b[1;32m~\\anaconda3\\envs\\environment_1\\lib\\site-packages\\osmnx\\_api.py\u001b[0m in \u001b[0;36m<module>\u001b[1;34m\u001b[0m\n\u001b[0;32m      1\u001b[0m \u001b[1;34m\"\"\"Expose most common parts of public API directly in `osmnx.` namespace.\"\"\"\u001b[0m\u001b[1;33m\u001b[0m\u001b[1;33m\u001b[0m\u001b[0m\n\u001b[0;32m      2\u001b[0m \u001b[1;33m\u001b[0m\u001b[0m\n\u001b[1;32m----> 3\u001b[1;33m \u001b[1;32mfrom\u001b[0m \u001b[1;33m.\u001b[0m\u001b[0mbearing\u001b[0m \u001b[1;32mimport\u001b[0m \u001b[0madd_edge_bearings\u001b[0m\u001b[1;33m\u001b[0m\u001b[1;33m\u001b[0m\u001b[0m\n\u001b[0m\u001b[0;32m      4\u001b[0m \u001b[1;32mfrom\u001b[0m \u001b[1;33m.\u001b[0m\u001b[0mbearing\u001b[0m \u001b[1;32mimport\u001b[0m \u001b[0morientation_entropy\u001b[0m\u001b[1;33m\u001b[0m\u001b[1;33m\u001b[0m\u001b[0m\n\u001b[0;32m      5\u001b[0m \u001b[1;32mfrom\u001b[0m \u001b[1;33m.\u001b[0m\u001b[0mbearing\u001b[0m \u001b[1;32mimport\u001b[0m \u001b[0mplot_orientation\u001b[0m\u001b[1;33m\u001b[0m\u001b[1;33m\u001b[0m\u001b[0m\n",
      "\u001b[1;32m~\\anaconda3\\envs\\environment_1\\lib\\site-packages\\osmnx\\bearing.py\u001b[0m in \u001b[0;36m<module>\u001b[1;34m\u001b[0m\n\u001b[0;32m      7\u001b[0m \u001b[1;32mimport\u001b[0m \u001b[0mnumpy\u001b[0m \u001b[1;32mas\u001b[0m \u001b[0mnp\u001b[0m\u001b[1;33m\u001b[0m\u001b[1;33m\u001b[0m\u001b[0m\n\u001b[0;32m      8\u001b[0m \u001b[1;33m\u001b[0m\u001b[0m\n\u001b[1;32m----> 9\u001b[1;33m \u001b[1;32mfrom\u001b[0m \u001b[1;33m.\u001b[0m \u001b[1;32mimport\u001b[0m \u001b[0mprojection\u001b[0m\u001b[1;33m\u001b[0m\u001b[1;33m\u001b[0m\u001b[0m\n\u001b[0m\u001b[0;32m     10\u001b[0m \u001b[1;33m\u001b[0m\u001b[0m\n\u001b[0;32m     11\u001b[0m \u001b[1;31m# scipy is an optional dependency for entropy calculation\u001b[0m\u001b[1;33m\u001b[0m\u001b[1;33m\u001b[0m\u001b[1;33m\u001b[0m\u001b[0m\n",
      "\u001b[1;32m~\\anaconda3\\envs\\environment_1\\lib\\site-packages\\osmnx\\projection.py\u001b[0m in \u001b[0;36m<module>\u001b[1;34m\u001b[0m\n\u001b[0;32m      1\u001b[0m \u001b[1;34m\"\"\"Project spatial geometries and spatial networks.\"\"\"\u001b[0m\u001b[1;33m\u001b[0m\u001b[1;33m\u001b[0m\u001b[0m\n\u001b[0;32m      2\u001b[0m \u001b[1;33m\u001b[0m\u001b[0m\n\u001b[1;32m----> 3\u001b[1;33m \u001b[1;32mimport\u001b[0m \u001b[0mgeopandas\u001b[0m \u001b[1;32mas\u001b[0m \u001b[0mgpd\u001b[0m\u001b[1;33m\u001b[0m\u001b[1;33m\u001b[0m\u001b[0m\n\u001b[0m\u001b[0;32m      4\u001b[0m \u001b[1;32mimport\u001b[0m \u001b[0mnumpy\u001b[0m \u001b[1;32mas\u001b[0m \u001b[0mnp\u001b[0m\u001b[1;33m\u001b[0m\u001b[1;33m\u001b[0m\u001b[0m\n\u001b[0;32m      5\u001b[0m \u001b[1;32mfrom\u001b[0m \u001b[0mpyproj\u001b[0m \u001b[1;32mimport\u001b[0m \u001b[0mCRS\u001b[0m\u001b[1;33m\u001b[0m\u001b[1;33m\u001b[0m\u001b[0m\n",
      "\u001b[1;32m~\\anaconda3\\envs\\environment_1\\lib\\site-packages\\geopandas\\__init__.py\u001b[0m in \u001b[0;36m<module>\u001b[1;34m\u001b[0m\n\u001b[1;32m----> 1\u001b[1;33m \u001b[1;32mfrom\u001b[0m \u001b[0mgeopandas\u001b[0m\u001b[1;33m.\u001b[0m\u001b[0m_config\u001b[0m \u001b[1;32mimport\u001b[0m \u001b[0moptions\u001b[0m  \u001b[1;31m# noqa\u001b[0m\u001b[1;33m\u001b[0m\u001b[1;33m\u001b[0m\u001b[0m\n\u001b[0m\u001b[0;32m      2\u001b[0m \u001b[1;33m\u001b[0m\u001b[0m\n\u001b[0;32m      3\u001b[0m \u001b[1;32mfrom\u001b[0m \u001b[0mgeopandas\u001b[0m\u001b[1;33m.\u001b[0m\u001b[0mgeoseries\u001b[0m \u001b[1;32mimport\u001b[0m \u001b[0mGeoSeries\u001b[0m  \u001b[1;31m# noqa\u001b[0m\u001b[1;33m\u001b[0m\u001b[1;33m\u001b[0m\u001b[0m\n\u001b[0;32m      4\u001b[0m \u001b[1;32mfrom\u001b[0m \u001b[0mgeopandas\u001b[0m\u001b[1;33m.\u001b[0m\u001b[0mgeodataframe\u001b[0m \u001b[1;32mimport\u001b[0m \u001b[0mGeoDataFrame\u001b[0m  \u001b[1;31m# noqa\u001b[0m\u001b[1;33m\u001b[0m\u001b[1;33m\u001b[0m\u001b[0m\n\u001b[0;32m      5\u001b[0m \u001b[1;32mfrom\u001b[0m \u001b[0mgeopandas\u001b[0m\u001b[1;33m.\u001b[0m\u001b[0marray\u001b[0m \u001b[1;32mimport\u001b[0m \u001b[0mpoints_from_xy\u001b[0m  \u001b[1;31m# noqa\u001b[0m\u001b[1;33m\u001b[0m\u001b[1;33m\u001b[0m\u001b[0m\n",
      "\u001b[1;32m~\\anaconda3\\envs\\environment_1\\lib\\site-packages\\geopandas\\_config.py\u001b[0m in \u001b[0;36m<module>\u001b[1;34m\u001b[0m\n\u001b[0;32m    124\u001b[0m use_pygeos = Option(\n\u001b[0;32m    125\u001b[0m     \u001b[0mkey\u001b[0m\u001b[1;33m=\u001b[0m\u001b[1;34m\"use_pygeos\"\u001b[0m\u001b[1;33m,\u001b[0m\u001b[1;33m\u001b[0m\u001b[1;33m\u001b[0m\u001b[0m\n\u001b[1;32m--> 126\u001b[1;33m     \u001b[0mdefault_value\u001b[0m\u001b[1;33m=\u001b[0m\u001b[0m_default_use_pygeos\u001b[0m\u001b[1;33m(\u001b[0m\u001b[1;33m)\u001b[0m\u001b[1;33m,\u001b[0m\u001b[1;33m\u001b[0m\u001b[1;33m\u001b[0m\u001b[0m\n\u001b[0m\u001b[0;32m    127\u001b[0m     doc=(\n\u001b[0;32m    128\u001b[0m         \u001b[1;34m\"Whether to use PyGEOS to speed up spatial operations. The default is True \"\u001b[0m\u001b[1;33m\u001b[0m\u001b[1;33m\u001b[0m\u001b[0m\n",
      "\u001b[1;32m~\\anaconda3\\envs\\environment_1\\lib\\site-packages\\geopandas\\_config.py\u001b[0m in \u001b[0;36m_default_use_pygeos\u001b[1;34m()\u001b[0m\n\u001b[0;32m    110\u001b[0m \u001b[1;33m\u001b[0m\u001b[0m\n\u001b[0;32m    111\u001b[0m \u001b[1;32mdef\u001b[0m \u001b[0m_default_use_pygeos\u001b[0m\u001b[1;33m(\u001b[0m\u001b[1;33m)\u001b[0m\u001b[1;33m:\u001b[0m\u001b[1;33m\u001b[0m\u001b[1;33m\u001b[0m\u001b[0m\n\u001b[1;32m--> 112\u001b[1;33m     \u001b[1;32mimport\u001b[0m \u001b[0mgeopandas\u001b[0m\u001b[1;33m.\u001b[0m\u001b[0m_compat\u001b[0m \u001b[1;32mas\u001b[0m \u001b[0mcompat\u001b[0m\u001b[1;33m\u001b[0m\u001b[1;33m\u001b[0m\u001b[0m\n\u001b[0m\u001b[0;32m    113\u001b[0m \u001b[1;33m\u001b[0m\u001b[0m\n\u001b[0;32m    114\u001b[0m     \u001b[1;32mreturn\u001b[0m \u001b[0mcompat\u001b[0m\u001b[1;33m.\u001b[0m\u001b[0mUSE_PYGEOS\u001b[0m\u001b[1;33m\u001b[0m\u001b[1;33m\u001b[0m\u001b[0m\n",
      "\u001b[1;32m~\\anaconda3\\envs\\environment_1\\lib\\site-packages\\geopandas\\_compat.py\u001b[0m in \u001b[0;36m<module>\u001b[1;34m\u001b[0m\n\u001b[0;32m      6\u001b[0m \u001b[1;33m\u001b[0m\u001b[0m\n\u001b[0;32m      7\u001b[0m \u001b[1;32mimport\u001b[0m \u001b[0mpandas\u001b[0m \u001b[1;32mas\u001b[0m \u001b[0mpd\u001b[0m\u001b[1;33m\u001b[0m\u001b[1;33m\u001b[0m\u001b[0m\n\u001b[1;32m----> 8\u001b[1;33m \u001b[1;32mimport\u001b[0m \u001b[0mpyproj\u001b[0m\u001b[1;33m\u001b[0m\u001b[1;33m\u001b[0m\u001b[0m\n\u001b[0m\u001b[0;32m      9\u001b[0m \u001b[1;32mimport\u001b[0m \u001b[0mshapely\u001b[0m\u001b[1;33m\u001b[0m\u001b[1;33m\u001b[0m\u001b[0m\n\u001b[0;32m     10\u001b[0m \u001b[1;32mimport\u001b[0m \u001b[0mshapely\u001b[0m\u001b[1;33m.\u001b[0m\u001b[0mgeos\u001b[0m\u001b[1;33m\u001b[0m\u001b[1;33m\u001b[0m\u001b[0m\n",
      "\u001b[1;32m~\\anaconda3\\envs\\environment_1\\lib\\site-packages\\pyproj\\__init__.py\u001b[0m in \u001b[0;36m<module>\u001b[1;34m\u001b[0m\n\u001b[0;32m     47\u001b[0m \u001b[1;32mimport\u001b[0m \u001b[0mwarnings\u001b[0m\u001b[1;33m\u001b[0m\u001b[1;33m\u001b[0m\u001b[0m\n\u001b[0;32m     48\u001b[0m \u001b[1;33m\u001b[0m\u001b[0m\n\u001b[1;32m---> 49\u001b[1;33m \u001b[1;32mimport\u001b[0m \u001b[0mpyproj\u001b[0m\u001b[1;33m.\u001b[0m\u001b[0mnetwork\u001b[0m\u001b[1;33m\u001b[0m\u001b[1;33m\u001b[0m\u001b[0m\n\u001b[0m\u001b[0;32m     50\u001b[0m from pyproj._datadir import (  # noqa: F401 pylint: disable=unused-import\n\u001b[0;32m     51\u001b[0m     \u001b[0m_pyproj_global_context_initialize\u001b[0m\u001b[1;33m,\u001b[0m\u001b[1;33m\u001b[0m\u001b[1;33m\u001b[0m\u001b[0m\n",
      "\u001b[1;32m~\\anaconda3\\envs\\environment_1\\lib\\site-packages\\pyproj\\network.py\u001b[0m in \u001b[0;36m<module>\u001b[1;34m\u001b[0m\n\u001b[0;32m      8\u001b[0m \u001b[1;32mimport\u001b[0m \u001b[0mcertifi\u001b[0m\u001b[1;33m\u001b[0m\u001b[1;33m\u001b[0m\u001b[0m\n\u001b[0;32m      9\u001b[0m \u001b[1;33m\u001b[0m\u001b[0m\n\u001b[1;32m---> 10\u001b[1;33m from pyproj._network import (  # noqa: F401 pylint: disable=unused-import\n\u001b[0m\u001b[0;32m     11\u001b[0m     \u001b[0m_set_ca_bundle_path\u001b[0m\u001b[1;33m,\u001b[0m\u001b[1;33m\u001b[0m\u001b[1;33m\u001b[0m\u001b[0m\n\u001b[0;32m     12\u001b[0m     \u001b[0mis_network_enabled\u001b[0m\u001b[1;33m,\u001b[0m\u001b[1;33m\u001b[0m\u001b[1;33m\u001b[0m\u001b[0m\n",
      "\u001b[1;31mImportError\u001b[0m: DLL load failed while importing _network: The specified module could not be found."
     ]
    }
   ],
   "source": [
    "import osmnx as ox\n",
    "import pandas as pd\n",
    "import geopandas as gpd\n",
    "import matplotlib.pyplot as plt\n",
    "import numpy as np\n",
    "import pandas as pd\n",
    "import import_ipynb"
   ]
  },
  {
   "cell_type": "code",
   "execution_count": null,
   "id": "a31da1b9",
   "metadata": {},
   "outputs": [],
   "source": [
    "#As always we have to specify to jupyter that we want to see all the outputs.\n",
    "from IPython.core.interactiveshell import InteractiveShell\n",
    "InteractiveShell.ast_node_interactivity = \"all\"\n",
    "pd.options.display.max_rows = 20\n"
   ]
  },
  {
   "cell_type": "code",
   "execution_count": null,
   "id": "b0f8db27",
   "metadata": {},
   "outputs": [],
   "source": [
    "%%capture\n",
    "#the %%capture makes sure not the whole of last assignment is printed here\n",
    "\n",
    "#This imports dataframes from other code.\n",
    "from Demographicframes import deaths_per_district\n"
   ]
  },
  {
   "cell_type": "code",
   "execution_count": null,
   "id": "25a644bd",
   "metadata": {},
   "outputs": [],
   "source": [
    "deaths_per_district"
   ]
  },
  {
   "cell_type": "code",
   "execution_count": 33,
   "id": "093c887b",
   "metadata": {},
   "outputs": [],
   "source": [
    "india_shp_MASTERS = './maps-master/maps-master/Districts/Census_2011/2011_Dist.shp'"
   ]
  },
  {
   "cell_type": "code",
   "execution_count": 34,
   "id": "97550bd1",
   "metadata": {},
   "outputs": [
    {
     "name": "stdout",
     "output_type": "stream",
     "text": [
      "<class 'geopandas.geodataframe.GeoDataFrame'>\n",
      "RangeIndex: 641 entries, 0 to 640\n",
      "Data columns (total 6 columns):\n",
      " #   Column      Non-Null Count  Dtype   \n",
      "---  ------      --------------  -----   \n",
      " 0   DISTRICT    641 non-null    object  \n",
      " 1   ST_NM       641 non-null    object  \n",
      " 2   ST_CEN_CD   641 non-null    int64   \n",
      " 3   DT_CEN_CD   641 non-null    int64   \n",
      " 4   censuscode  641 non-null    int64   \n",
      " 5   geometry    641 non-null    geometry\n",
      "dtypes: geometry(1), int64(3), object(2)\n",
      "memory usage: 30.2+ KB\n"
     ]
    }
   ],
   "source": [
    "india_s_masters = gpd.read_file(india_shp_MASTERS)\n",
    "india_s_masters.info()"
   ]
  },
  {
   "cell_type": "code",
   "execution_count": 35,
   "id": "2a950f35",
   "metadata": {},
   "outputs": [
    {
     "data": {
      "text/html": [
       "<div>\n",
       "<style scoped>\n",
       "    .dataframe tbody tr th:only-of-type {\n",
       "        vertical-align: middle;\n",
       "    }\n",
       "\n",
       "    .dataframe tbody tr th {\n",
       "        vertical-align: top;\n",
       "    }\n",
       "\n",
       "    .dataframe thead th {\n",
       "        text-align: right;\n",
       "    }\n",
       "</style>\n",
       "<table border=\"1\" class=\"dataframe\">\n",
       "  <thead>\n",
       "    <tr style=\"text-align: right;\">\n",
       "      <th></th>\n",
       "      <th>DISTRICT</th>\n",
       "      <th>ST_NM</th>\n",
       "      <th>ST_CEN_CD</th>\n",
       "      <th>DT_CEN_CD</th>\n",
       "      <th>censuscode</th>\n",
       "      <th>geometry</th>\n",
       "    </tr>\n",
       "  </thead>\n",
       "  <tbody>\n",
       "    <tr>\n",
       "      <th>0</th>\n",
       "      <td>Adilabad</td>\n",
       "      <td>Andhra Pradesh</td>\n",
       "      <td>28</td>\n",
       "      <td>1</td>\n",
       "      <td>532</td>\n",
       "      <td>POLYGON ((78.84972 19.76010, 78.85102 19.75945...</td>\n",
       "    </tr>\n",
       "    <tr>\n",
       "      <th>1</th>\n",
       "      <td>Agra</td>\n",
       "      <td>Uttar Pradesh</td>\n",
       "      <td>9</td>\n",
       "      <td>15</td>\n",
       "      <td>146</td>\n",
       "      <td>POLYGON ((78.19803 27.40280, 78.19804 27.40278...</td>\n",
       "    </tr>\n",
       "    <tr>\n",
       "      <th>2</th>\n",
       "      <td>Ahmadabad</td>\n",
       "      <td>Gujarat</td>\n",
       "      <td>24</td>\n",
       "      <td>7</td>\n",
       "      <td>474</td>\n",
       "      <td>MULTIPOLYGON (((72.03456 23.50527, 72.03337 23...</td>\n",
       "    </tr>\n",
       "    <tr>\n",
       "      <th>3</th>\n",
       "      <td>Ahmadnagar</td>\n",
       "      <td>Maharashtra</td>\n",
       "      <td>27</td>\n",
       "      <td>26</td>\n",
       "      <td>522</td>\n",
       "      <td>POLYGON ((74.67333 19.94670, 74.67393 19.93509...</td>\n",
       "    </tr>\n",
       "    <tr>\n",
       "      <th>4</th>\n",
       "      <td>Aizawl</td>\n",
       "      <td>Mizoram</td>\n",
       "      <td>15</td>\n",
       "      <td>3</td>\n",
       "      <td>283</td>\n",
       "      <td>POLYGON ((92.98749 24.40453, 92.99107 24.40236...</td>\n",
       "    </tr>\n",
       "  </tbody>\n",
       "</table>\n",
       "</div>"
      ],
      "text/plain": [
       "     DISTRICT           ST_NM  ST_CEN_CD  DT_CEN_CD  censuscode  \\\n",
       "0    Adilabad  Andhra Pradesh         28          1         532   \n",
       "1        Agra   Uttar Pradesh          9         15         146   \n",
       "2   Ahmadabad         Gujarat         24          7         474   \n",
       "3  Ahmadnagar     Maharashtra         27         26         522   \n",
       "4      Aizawl         Mizoram         15          3         283   \n",
       "\n",
       "                                            geometry  \n",
       "0  POLYGON ((78.84972 19.76010, 78.85102 19.75945...  \n",
       "1  POLYGON ((78.19803 27.40280, 78.19804 27.40278...  \n",
       "2  MULTIPOLYGON (((72.03456 23.50527, 72.03337 23...  \n",
       "3  POLYGON ((74.67333 19.94670, 74.67393 19.93509...  \n",
       "4  POLYGON ((92.98749 24.40453, 92.99107 24.40236...  "
      ]
     },
     "execution_count": 35,
     "metadata": {},
     "output_type": "execute_result"
    }
   ],
   "source": [
    "india_s_masters.head()"
   ]
  },
  {
   "cell_type": "code",
   "execution_count": 36,
   "id": "485a2373",
   "metadata": {},
   "outputs": [
    {
     "data": {
      "text/plain": [
       "<AxesSubplot:>"
      ]
     },
     "execution_count": 36,
     "metadata": {},
     "output_type": "execute_result"
    },
    {
     "data": {
      "image/png": "[encoded data removed]",
      "text/plain": [
       "<Figure size 432x288 with 1 Axes>"
      ]
     },
     "metadata": {
      "needs_background": "light"
     },
     "output_type": "display_data"
    }
   ],
   "source": [
    "india_s_masters.plot()"
   ]
  },
  {
   "cell_type": "code",
   "execution_count": 37,
   "id": "8e056fdc",
   "metadata": {},
   "outputs": [],
   "source": [
    "##for joining two files\n",
    "##india_joined = india_s_masters.join(, on='censuscode')\n",
    "##india_joined.head()"
   ]
  },
  {
   "cell_type": "code",
   "execution_count": 38,
   "id": "9a5498fd",
   "metadata": {},
   "outputs": [],
   "source": [
    "df = pd.DataFrame(np.random.randint(0,100,size=(641, 1)))"
   ]
  },
  {
   "cell_type": "code",
   "execution_count": 39,
   "id": "d4356993",
   "metadata": {},
   "outputs": [],
   "source": [
    "india_s_masters['random'] = df"
   ]
  },
  {
   "cell_type": "code",
   "execution_count": 40,
   "id": "0b29f633",
   "metadata": {},
   "outputs": [
    {
     "data": {
      "text/html": [
       "<div>\n",
       "<style scoped>\n",
       "    .dataframe tbody tr th:only-of-type {\n",
       "        vertical-align: middle;\n",
       "    }\n",
       "\n",
       "    .dataframe tbody tr th {\n",
       "        vertical-align: top;\n",
       "    }\n",
       "\n",
       "    .dataframe thead th {\n",
       "        text-align: right;\n",
       "    }\n",
       "</style>\n",
       "<table border=\"1\" class=\"dataframe\">\n",
       "  <thead>\n",
       "    <tr style=\"text-align: right;\">\n",
       "      <th></th>\n",
       "      <th>DISTRICT</th>\n",
       "      <th>ST_NM</th>\n",
       "      <th>ST_CEN_CD</th>\n",
       "      <th>DT_CEN_CD</th>\n",
       "      <th>censuscode</th>\n",
       "      <th>geometry</th>\n",
       "      <th>random</th>\n",
       "    </tr>\n",
       "  </thead>\n",
       "  <tbody>\n",
       "    <tr>\n",
       "      <th>0</th>\n",
       "      <td>Adilabad</td>\n",
       "      <td>Andhra Pradesh</td>\n",
       "      <td>28</td>\n",
       "      <td>1</td>\n",
       "      <td>532</td>\n",
       "      <td>POLYGON ((78.84972 19.76010, 78.85102 19.75945...</td>\n",
       "      <td>62</td>\n",
       "    </tr>\n",
       "    <tr>\n",
       "      <th>1</th>\n",
       "      <td>Agra</td>\n",
       "      <td>Uttar Pradesh</td>\n",
       "      <td>9</td>\n",
       "      <td>15</td>\n",
       "      <td>146</td>\n",
       "      <td>POLYGON ((78.19803 27.40280, 78.19804 27.40278...</td>\n",
       "      <td>78</td>\n",
       "    </tr>\n",
       "    <tr>\n",
       "      <th>2</th>\n",
       "      <td>Ahmadabad</td>\n",
       "      <td>Gujarat</td>\n",
       "      <td>24</td>\n",
       "      <td>7</td>\n",
       "      <td>474</td>\n",
       "      <td>MULTIPOLYGON (((72.03456 23.50527, 72.03337 23...</td>\n",
       "      <td>98</td>\n",
       "    </tr>\n",
       "    <tr>\n",
       "      <th>3</th>\n",
       "      <td>Ahmadnagar</td>\n",
       "      <td>Maharashtra</td>\n",
       "      <td>27</td>\n",
       "      <td>26</td>\n",
       "      <td>522</td>\n",
       "      <td>POLYGON ((74.67333 19.94670, 74.67393 19.93509...</td>\n",
       "      <td>82</td>\n",
       "    </tr>\n",
       "    <tr>\n",
       "      <th>4</th>\n",
       "      <td>Aizawl</td>\n",
       "      <td>Mizoram</td>\n",
       "      <td>15</td>\n",
       "      <td>3</td>\n",
       "      <td>283</td>\n",
       "      <td>POLYGON ((92.98749 24.40453, 92.99107 24.40236...</td>\n",
       "      <td>14</td>\n",
       "    </tr>\n",
       "  </tbody>\n",
       "</table>\n",
       "</div>"
      ],
      "text/plain": [
       "     DISTRICT           ST_NM  ST_CEN_CD  DT_CEN_CD  censuscode  \\\n",
       "0    Adilabad  Andhra Pradesh         28          1         532   \n",
       "1        Agra   Uttar Pradesh          9         15         146   \n",
       "2   Ahmadabad         Gujarat         24          7         474   \n",
       "3  Ahmadnagar     Maharashtra         27         26         522   \n",
       "4      Aizawl         Mizoram         15          3         283   \n",
       "\n",
       "                                            geometry  random  \n",
       "0  POLYGON ((78.84972 19.76010, 78.85102 19.75945...      62  \n",
       "1  POLYGON ((78.19803 27.40280, 78.19804 27.40278...      78  \n",
       "2  MULTIPOLYGON (((72.03456 23.50527, 72.03337 23...      98  \n",
       "3  POLYGON ((74.67333 19.94670, 74.67393 19.93509...      82  \n",
       "4  POLYGON ((92.98749 24.40453, 92.99107 24.40236...      14  "
      ]
     },
     "execution_count": 40,
     "metadata": {},
     "output_type": "execute_result"
    }
   ],
   "source": [
    "india_s_masters.head()\n"
   ]
  },
  {
   "cell_type": "code",
   "execution_count": 41,
   "id": "1ec01ada",
   "metadata": {},
   "outputs": [],
   "source": [
    "# We drop the row with the data that is unclear\n",
    "india_s_masters = india_s_masters[india_s_masters['censuscode'] != 0]"
   ]
  },
  {
   "cell_type": "code",
   "execution_count": 42,
   "id": "d5590b20",
   "metadata": {},
   "outputs": [],
   "source": [
    "columns_to_plot = ['random']"
   ]
  },
  {
   "cell_type": "code",
   "execution_count": 43,
   "id": "f5519841",
   "metadata": {},
   "outputs": [
    {
     "data": {
      "image/png": "[encoded data removed]",
      "text/plain": [
       "<Figure size 1080x1080 with 16 Axes>"
      ]
     },
     "metadata": {
      "needs_background": "light"
     },
     "output_type": "display_data"
    }
   ],
   "source": [
    "f, axs = plt.subplots(4,4, figsize=(15,15))\n",
    "axs = axs.flatten()\n",
    "\n",
    "for i, col in enumerate(columns_to_plot):\n",
    "    ax = axs[i]\n",
    "    india_s_masters.plot(column=col, ax=ax, linewidth=0, cmap='viridis', alpha = 0.75)\n",
    "    ax.set_axis_off()\n",
    "    ax.set_title(col, fontsize =12)\n",
    "plt.show()"
   ]
  },
  {
   "cell_type": "code",
   "execution_count": 44,
   "id": "b9f063b9",
   "metadata": {},
   "outputs": [
    {
     "data": {
      "text/html": [
       "<div>\n",
       "<style scoped>\n",
       "    .dataframe tbody tr th:only-of-type {\n",
       "        vertical-align: middle;\n",
       "    }\n",
       "\n",
       "    .dataframe tbody tr th {\n",
       "        vertical-align: top;\n",
       "    }\n",
       "\n",
       "    .dataframe thead th {\n",
       "        text-align: right;\n",
       "    }\n",
       "</style>\n",
       "<table border=\"1\" class=\"dataframe\">\n",
       "  <thead>\n",
       "    <tr style=\"text-align: right;\">\n",
       "      <th></th>\n",
       "      <th>DISTRICT</th>\n",
       "      <th>ST_NM</th>\n",
       "      <th>ST_CEN_CD</th>\n",
       "      <th>DT_CEN_CD</th>\n",
       "      <th>censuscode</th>\n",
       "      <th>geometry</th>\n",
       "      <th>random</th>\n",
       "    </tr>\n",
       "  </thead>\n",
       "  <tbody>\n",
       "    <tr>\n",
       "      <th>638</th>\n",
       "      <td>South Andaman</td>\n",
       "      <td>Andaman &amp; Nicobar Island</td>\n",
       "      <td>35</td>\n",
       "      <td>3</td>\n",
       "      <td>640</td>\n",
       "      <td>MULTIPOLYGON (((92.69758 12.23961, 92.69778 12...</td>\n",
       "      <td>51</td>\n",
       "    </tr>\n",
       "    <tr>\n",
       "      <th>639</th>\n",
       "      <td>North &amp; Middle Andaman</td>\n",
       "      <td>Andaman &amp; Nicobar Island</td>\n",
       "      <td>35</td>\n",
       "      <td>2</td>\n",
       "      <td>639</td>\n",
       "      <td>MULTIPOLYGON (((92.89905 12.91512, 92.89905 12...</td>\n",
       "      <td>44</td>\n",
       "    </tr>\n",
       "    <tr>\n",
       "      <th>637</th>\n",
       "      <td>Nicobar</td>\n",
       "      <td>Andaman &amp; Nicobar Island</td>\n",
       "      <td>35</td>\n",
       "      <td>1</td>\n",
       "      <td>638</td>\n",
       "      <td>MULTIPOLYGON (((93.84861 7.24051, 93.84870 7.2...</td>\n",
       "      <td>50</td>\n",
       "    </tr>\n",
       "    <tr>\n",
       "      <th>633</th>\n",
       "      <td>Karaikal</td>\n",
       "      <td>Puducherry</td>\n",
       "      <td>34</td>\n",
       "      <td>4</td>\n",
       "      <td>637</td>\n",
       "      <td>POLYGON ((79.76528 10.99681, 79.76963 10.99519...</td>\n",
       "      <td>23</td>\n",
       "    </tr>\n",
       "    <tr>\n",
       "      <th>353</th>\n",
       "      <td>Mahe</td>\n",
       "      <td>Puducherry</td>\n",
       "      <td>34</td>\n",
       "      <td>3</td>\n",
       "      <td>636</td>\n",
       "      <td>MULTIPOLYGON (((75.54502 11.73396, 75.55523 11...</td>\n",
       "      <td>2</td>\n",
       "    </tr>\n",
       "    <tr>\n",
       "      <th>...</th>\n",
       "      <td>...</td>\n",
       "      <td>...</td>\n",
       "      <td>...</td>\n",
       "      <td>...</td>\n",
       "      <td>...</td>\n",
       "      <td>...</td>\n",
       "      <td>...</td>\n",
       "    </tr>\n",
       "    <tr>\n",
       "      <th>450</th>\n",
       "      <td>Punch</td>\n",
       "      <td>Jammu &amp; Kashmir</td>\n",
       "      <td>1</td>\n",
       "      <td>5</td>\n",
       "      <td>5</td>\n",
       "      <td>POLYGON ((74.32009 33.95562, 74.32773 33.94523...</td>\n",
       "      <td>6</td>\n",
       "    </tr>\n",
       "    <tr>\n",
       "      <th>283</th>\n",
       "      <td>Kargil</td>\n",
       "      <td>Jammu &amp; Kashmir</td>\n",
       "      <td>1</td>\n",
       "      <td>4</td>\n",
       "      <td>4</td>\n",
       "      <td>POLYGON ((76.66040 34.38012, 76.67459 34.32414...</td>\n",
       "      <td>14</td>\n",
       "    </tr>\n",
       "    <tr>\n",
       "      <th>338</th>\n",
       "      <td>Leh (ladakh)</td>\n",
       "      <td>Jammu &amp; Kashmir</td>\n",
       "      <td>1</td>\n",
       "      <td>3</td>\n",
       "      <td>3</td>\n",
       "      <td>POLYGON ((79.38467 35.99429, 79.38682 35.99047...</td>\n",
       "      <td>92</td>\n",
       "    </tr>\n",
       "    <tr>\n",
       "      <th>31</th>\n",
       "      <td>Badgam</td>\n",
       "      <td>Jammu &amp; Kashmir</td>\n",
       "      <td>1</td>\n",
       "      <td>2</td>\n",
       "      <td>2</td>\n",
       "      <td>POLYGON ((74.82323 34.04905, 74.82835 34.04648...</td>\n",
       "      <td>39</td>\n",
       "    </tr>\n",
       "    <tr>\n",
       "      <th>326</th>\n",
       "      <td>Kupwara</td>\n",
       "      <td>Jammu &amp; Kashmir</td>\n",
       "      <td>1</td>\n",
       "      <td>1</td>\n",
       "      <td>1</td>\n",
       "      <td>POLYGON ((74.60352 34.86906, 74.59993 34.86392...</td>\n",
       "      <td>68</td>\n",
       "    </tr>\n",
       "  </tbody>\n",
       "</table>\n",
       "<p>640 rows × 7 columns</p>\n",
       "</div>"
      ],
      "text/plain": [
       "                   DISTRICT                     ST_NM  ST_CEN_CD  DT_CEN_CD  \\\n",
       "638           South Andaman  Andaman & Nicobar Island         35          3   \n",
       "639  North & Middle Andaman  Andaman & Nicobar Island         35          2   \n",
       "637                 Nicobar  Andaman & Nicobar Island         35          1   \n",
       "633                Karaikal                Puducherry         34          4   \n",
       "353                    Mahe                Puducherry         34          3   \n",
       "..                      ...                       ...        ...        ...   \n",
       "450                   Punch           Jammu & Kashmir          1          5   \n",
       "283                  Kargil           Jammu & Kashmir          1          4   \n",
       "338            Leh (ladakh)           Jammu & Kashmir          1          3   \n",
       "31                   Badgam           Jammu & Kashmir          1          2   \n",
       "326                 Kupwara           Jammu & Kashmir          1          1   \n",
       "\n",
       "     censuscode                                           geometry  random  \n",
       "638         640  MULTIPOLYGON (((92.69758 12.23961, 92.69778 12...      51  \n",
       "639         639  MULTIPOLYGON (((92.89905 12.91512, 92.89905 12...      44  \n",
       "637         638  MULTIPOLYGON (((93.84861 7.24051, 93.84870 7.2...      50  \n",
       "633         637  POLYGON ((79.76528 10.99681, 79.76963 10.99519...      23  \n",
       "353         636  MULTIPOLYGON (((75.54502 11.73396, 75.55523 11...       2  \n",
       "..          ...                                                ...     ...  \n",
       "450           5  POLYGON ((74.32009 33.95562, 74.32773 33.94523...       6  \n",
       "283           4  POLYGON ((76.66040 34.38012, 76.67459 34.32414...      14  \n",
       "338           3  POLYGON ((79.38467 35.99429, 79.38682 35.99047...      92  \n",
       "31            2  POLYGON ((74.82323 34.04905, 74.82835 34.04648...      39  \n",
       "326           1  POLYGON ((74.60352 34.86906, 74.59993 34.86392...      68  \n",
       "\n",
       "[640 rows x 7 columns]"
      ]
     },
     "execution_count": 44,
     "metadata": {},
     "output_type": "execute_result"
    }
   ],
   "source": [
    "india_s_masters.sort_values(by='censuscode', ascending=False)\n"
   ]
  },
  {
   "cell_type": "code",
   "execution_count": null,
   "id": "5e06d900",
   "metadata": {},
   "outputs": [],
   "source": []
  }
 ],
 "metadata": {
  "kernelspec": {
   "display_name": "environment_1",
   "language": "python",
   "name": "environment_1"
  },
  "language_info": {
   "codemirror_mode": {
    "name": "ipython",
    "version": 3
   },
   "file_extension": ".py",
   "mimetype": "text/x-python",
   "name": "python",
   "nbconvert_exporter": "python",
   "pygments_lexer": "ipython3",
   "version": "3.8.11"
  }
 },
 "nbformat": 4,
 "nbformat_minor": 5
}
